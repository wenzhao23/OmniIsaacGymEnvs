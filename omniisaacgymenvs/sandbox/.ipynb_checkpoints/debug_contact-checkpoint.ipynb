{
 "cells": [
  {
   "cell_type": "code",
   "execution_count": null,
   "id": "61ae49c7",
   "metadata": {},
   "outputs": [],
   "source": [
    "import os\n",
    "import pickle\n",
    "from matplotlib import pyplot as plt\n",
    "from mpl_toolkits.mplot3d.art3d import Poly3DCollection\n",
    "import numpy as np\n",
    "\n",
    "from omniisaacgymenvs.data_types import geometry_utils\n",
    "from omniisaacgymenvs.data_types import se3"
   ]
  },
  {
   "cell_type": "code",
   "execution_count": null,
   "id": "c0ee99fb",
   "metadata": {},
   "outputs": [],
   "source": [
    "with open(os.path.expanduser('~/data/grasping/contacts.pkl'), 'rb') as f:\n",
    "    data = pickle.load(f)\n",
    "timestamps = data['time']\n",
    "contact_trajectory = data['contact']\n",
    "world_t_targets = data['target']\n",
    "num_contacts = []\n",
    "for all_link_all_contact in contact_trajectory:\n",
    "  count = 0\n",
    "  for all_contact in all_link_all_contact:\n",
    "    count += len(all_contact)\n",
    "  num_contacts.append(count)\n",
    "\n",
    "%matplotlib inline\n",
    "plt.plot(timestamps, num_contacts)"
   ]
  },
  {
   "cell_type": "code",
   "execution_count": null,
   "id": "f7011cdc",
   "metadata": {},
   "outputs": [],
   "source": [
    "# index = next(i for i, t in enumerate(timestamps) if t > 13)\n",
    "# print(index)\n",
    "save_index = -1\n",
    "for index in range(len(timestamps)):\n",
    "  target_pose = se3.Transform(xyz=world_t_targets[index][0], rot=world_t_targets[index][1])\n",
    "  all_link_all_contact = contact_trajectory[index]\n",
    "  positions = []\n",
    "  normals = []\n",
    "  for all_contact in all_link_all_contact:\n",
    "    for contact in all_contact:\n",
    "      contact_pos, contact_nor = contact\n",
    "      contact_nor = contact_nor / np.linalg.norm(contact_nor)\n",
    "      positions.append(contact_pos.flatten())\n",
    "      normals.append(contact_nor.flatten())\n",
    "  positions = np.array(positions)\n",
    "  normals = np.array(normals)\n",
    "  if positions.shape[0] == 0:\n",
    "    continue\n",
    "  save_index += 1\n",
    "\n",
    "  %matplotlib qt\n",
    "  fig = plt.figure()\n",
    "  ax = fig.add_subplot(projection='3d')\n",
    "  # ax.scatter(positions[:, 0], positions[:, 1], positions[:, 2])len(positions)\n",
    "  ax.quiver(positions[:, 0], positions[:, 1], positions[:, 2], normals[:, 0], normals[:, 1], normals[:, 2], length=0.02, normalize=True)\n",
    "\n",
    "  # Define the vertices of the cube\n",
    "  verts = [(0,0,0), (0,1,0), (1,1,0), (1,0,0), (0,0,1), (0,1,1), (1,1,1), (1,0,1)]\n",
    "  verts = np.array(verts).astype(np.float32)\n",
    "  verts[:, 0] = verts[:, 0] * 0.0515 - 0.0515 / 2\n",
    "  verts[:, 1] = verts[:, 1] * 0.1515 - 0.1515 / 2\n",
    "  verts[:, 2] = verts[:, 2] * 0.0515 - 0.0515 / 2\n",
    "  world_t_verts = geometry_utils.transform_points(verts.transpose(), target_pose).transpose()\n",
    "\n",
    "  # Define the faces of the cube\n",
    "  faces = [(0,1,2,3), (0,4,5,1), (1,5,6,2), (2,6,7,3), (3,7,4,0), (4,7,6,5)]\n",
    "\n",
    "  # Define the color of the cube\n",
    "  color = 'red'\n",
    "\n",
    "  # Create the 3D object and add it to the axis\n",
    "  polygons = []\n",
    "  for face in faces:\n",
    "    polygons.append([world_t_verts[f] for f in face])\n",
    "  cube = Poly3DCollection(polygons, facecolors=color, edgecolors='black', alpha=0.3)\n",
    "  ax.add_collection3d(cube)\n",
    "\n",
    "  # Set the limits of the axis and show the plot\n",
    "  ax.set_xlim([-0.2, 0.2])\n",
    "  ax.set_ylim([-0.2, 0.2])\n",
    "  ax.set_zlim([0, 0.4])\n",
    "  ax.set_xlabel('x')\n",
    "  ax.set_ylabel('y')\n",
    "  ax.set_zlabel('z')\n",
    "  plt.show()\n",
    "  plt.savefig(os.path.expanduser(f'~/exp/picking_block/frame{save_index:03d}.png'))"
   ]
  },
  {
   "cell_type": "code",
   "execution_count": null,
   "id": "42db713d",
   "metadata": {},
   "outputs": [],
   "source": [
    "\n"
   ]
  }
 ],
 "metadata": {
  "kernelspec": {
   "display_name": "Isaac Sim Python 3",
   "language": "python",
   "name": "isaac_sim_python3"
  },
  "language_info": {
   "codemirror_mode": {
    "name": "ipython",
    "version": 3
   },
   "file_extension": ".py",
   "mimetype": "text/x-python",
   "name": "python",
   "nbconvert_exporter": "python",
   "pygments_lexer": "ipython3",
   "version": "3.7.13"
  }
 },
 "nbformat": 4,
 "nbformat_minor": 5
}
