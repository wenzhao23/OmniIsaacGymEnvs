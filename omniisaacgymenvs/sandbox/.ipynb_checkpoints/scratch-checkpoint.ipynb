{
 "cells": [
  {
   "cell_type": "code",
   "execution_count": 1,
   "id": "93b8208e",
   "metadata": {},
   "outputs": [],
   "source": [
    "import kinpy as kp"
   ]
  },
  {
   "cell_type": "code",
   "execution_count": 3,
   "id": "f9c48c63",
   "metadata": {},
   "outputs": [
    {
     "data": {
      "text/plain": [
       "<kinpy.chain.Chain at 0x7f67c0768e10>"
      ]
     },
     "execution_count": 3,
     "metadata": {},
     "output_type": "execute_result"
    }
   ],
   "source": [
    "chain = kp.build_chain_from_urdf(open('/home/wenzhaol/Downloads/allegro/allegro.urdf').read())"
   ]
  },
  {
   "cell_type": "code",
   "execution_count": 12,
   "id": "8e8e2a1a",
   "metadata": {},
   "outputs": [
    {
     "name": "stdout",
     "output_type": "stream",
     "text": [
      "['allegro_mount_0_1', 'allegro_mount_1_2', 'allegro_mount_2_3', 'allegro_mount_3_4', 'allegro_mount_4_5', 'allegro_mount_5_6', 'index_joint_0', 'index_joint_1', 'index_joint_2', 'index_joint_3', 'middle_joint_0', 'middle_joint_1', 'middle_joint_2', 'middle_joint_3', 'ring_joint_0', 'ring_joint_1', 'ring_joint_2', 'ring_joint_3', 'thumb_joint_0', 'thumb_joint_1', 'thumb_joint_2', 'thumb_joint_3']\n"
     ]
    }
   ],
   "source": [
    "print(chain.get_joint_parameter_names())"
   ]
  },
  {
   "cell_type": "code",
   "execution_count": 10,
   "id": "f386a318",
   "metadata": {},
   "outputs": [
    {
     "data": {
      "text/plain": [
       "array([1., 0., 0., 0.])"
      ]
     },
     "execution_count": 10,
     "metadata": {},
     "output_type": "execute_result"
    }
   ],
   "source": [
    "ret = chain.forward_kinematics({})\n",
    "a = ret['allegro_mount']\n",
    "a.rot"
   ]
  },
  {
   "cell_type": "code",
   "execution_count": 14,
   "id": "a1e96f01",
   "metadata": {},
   "outputs": [
    {
     "data": {
      "text/plain": [
       "{'allegro_mount': Transform(rot=[1. 0. 0. 0.], pos=[0. 0. 0.]),\n",
       " 'allegro_mount_1': Transform(rot=[1. 0. 0. 0.], pos=[0. 0. 0.]),\n",
       " 'allegro_mount_2': Transform(rot=[1. 0. 0. 0.], pos=[0. 0. 0.]),\n",
       " 'allegro_mount_3': Transform(rot=[1. 0. 0. 0.], pos=[0. 0. 0.]),\n",
       " 'allegro_mount_4': Transform(rot=[1. 0. 0. 0.], pos=[0. 0. 0.]),\n",
       " 'allegro_mount_5': Transform(rot=[1. 0. 0. 0.], pos=[0. 0. 0.]),\n",
       " 'allegro_mount_6': Transform(rot=[1. 0. 0. 0.], pos=[0. 0. 0.]),\n",
       " 'palm_link': Transform(rot=[ 0.6532803   0.27059849 -0.6532827   0.2705975 ], pos=[-0.008219 -0.02063   0.08086 ]),\n",
       " 'index_link_0': Transform(rot=[-0.38231938  0.01672932 -0.04033248  0.922998  ], pos=[ 0.02545329 -0.03832195  0.13229024]),\n",
       " 'index_link_1': Transform(rot=[-0.25857853 -0.68118608  0.28219025 -0.62409241], pos=[ 0.02545329 -0.03832195  0.13229024]),\n",
       " 'index_link_2': Transform(rot=[-0.25857853 -0.68118608  0.28219025 -0.62409241], pos=[ 0.02878804 -0.04165345  0.18608411]),\n",
       " 'index_link_3': Transform(rot=[-0.25857853 -0.68118608  0.28219025 -0.62409241], pos=[ 0.03115942 -0.04402251  0.22433753]),\n",
       " 'index_biotac_tip': Transform(rot=[-0.25857853 -0.68118608  0.28219025 -0.62409241], pos=[ 0.03115942 -0.04402251  0.22433753]),\n",
       " 'middle_link_0': Transform(rot=[-3.82683355e-01  3.74318833e-05 -3.46389696e-05  9.23879563e-01], pos=[-0.00643518 -0.00643349  0.13459754]),\n",
       " 'middle_link_1': Transform(rot=[-0.27063863 -0.65331382  0.27064837 -0.65321149], pos=[-0.00643518 -0.00643349  0.13459754]),\n",
       " 'middle_link_2': Transform(rot=[-0.27063863 -0.65331382  0.27064837 -0.65321149], pos=[-0.00642824 -0.00643716  0.18859754]),\n",
       " 'middle_link_3': Transform(rot=[-0.27063863 -0.65331382  0.27064837 -0.65321149], pos=[-0.00642331 -0.00643978  0.22699754]),\n",
       " 'middle_biotac_tip': Transform(rot=[-0.27063863 -0.65331382  0.27064837 -0.65321149], pos=[-0.00642331 -0.00643978  0.22699754]),\n",
       " 'ring_link_0': Transform(rot=[-0.38231891 -0.01665453  0.04026327  0.92300257], pos=[-0.03832413  0.02545549  0.13229024]),\n",
       " 'ring_link_1': Transform(rot=[-0.28218359 -0.62419801  0.25859132 -0.68108721], pos=[-0.03832413  0.02545549  0.13229024]),\n",
       " 'ring_link_2': Transform(rot=[-0.28218359 -0.62419801  0.25859132 -0.68108721], pos=[-0.04164505  0.02877966  0.18608542]),\n",
       " 'ring_link_3': Transform(rot=[-0.28218359 -0.62419801  0.25859132 -0.68108721], pos=[-0.04400659  0.03114353  0.22433977]),\n",
       " 'ring_biotac_tip': Transform(rot=[-0.28218359 -0.62419801  0.25859132 -0.68108721], pos=[-0.04400659  0.03114353  0.22433977]),\n",
       " 'thumb_link_0': Transform(rot=[ 0.01669116  0.38229784 -0.92300911 -0.04029819], pos=[ 0.01838818 -0.00551769  0.04411191]),\n",
       " 'thumb_link_1': Transform(rot=[-0.25851643  0.28213382 -0.68117558  0.6241551 ], pos=[ 0.01485248 -0.00905306  0.04411191]),\n",
       " 'thumb_link_2': Transform(rot=[-0.64086822 -0.66442598  0.24184657  0.29889175], pos=[ 0.05387517 -0.04807937  0.03928107]),\n",
       " 'thumb_link_3': Transform(rot=[-0.64086822 -0.66442598  0.24184657  0.29889175], pos=[ 0.09007866 -0.08428958  0.03479902]),\n",
       " 'thumb_biotac_tip': Transform(rot=[-0.64086822 -0.66442598  0.24184657  0.29889175], pos=[ 0.09007866 -0.08428958  0.03479902])}"
      ]
     },
     "execution_count": 14,
     "metadata": {},
     "output_type": "execute_result"
    }
   ],
   "source": [
    "ret"
   ]
  },
  {
   "cell_type": "code",
   "execution_count": 1,
   "id": "b105fd09",
   "metadata": {},
   "outputs": [],
   "source": [
    "\"\"\"\n",
    "XKCD plot generator\n",
    "-------------------\n",
    "Author: Jake Vanderplas\n",
    "\n",
    "This is a script that will take any matplotlib line diagram, and convert it\n",
    "to an XKCD-style plot.  It will work for plots with line & text elements,\n",
    "including axes labels and titles (but not axes tick labels).\n",
    "\n",
    "The idea for this comes from work by Damon McDougall\n",
    "  http://www.mail-archive.com/matplotlib-users@lists.sourceforge.net/msg25499.html\n",
    "\"\"\"\n",
    "import numpy as np\n",
    "import pylab as pl\n",
    "from scipy import interpolate, signal\n",
    "import matplotlib.font_manager as fm\n",
    "\n",
    "\n",
    "# We need a special font for the code below.  It can be downloaded this way:\n",
    "import os\n",
    "from urllib.request import urlopen\n",
    "if not os.path.exists('Humor-Sans.ttf'):\n",
    "    fhandle = urlopen('http://antiyawn.com/uploads/Humor-Sans-1.0.ttf')\n",
    "    open('Humor-Sans.ttf', 'wb').write(fhandle.read())\n",
    "\n",
    "    \n",
    "def xkcd_line(x, y, xlim=None, ylim=None,\n",
    "              mag=1.0, f1=30, f2=0.05, f3=15):\n",
    "    \"\"\"\n",
    "    Mimic a hand-drawn line from (x, y) data\n",
    "\n",
    "    Parameters\n",
    "    ----------\n",
    "    x, y : array_like\n",
    "        arrays to be modified\n",
    "    xlim, ylim : data range\n",
    "        the assumed plot range for the modification.  If not specified,\n",
    "        they will be guessed from the  data\n",
    "    mag : float\n",
    "        magnitude of distortions\n",
    "    f1, f2, f3 : int, float, int\n",
    "        filtering parameters.  f1 gives the size of the window, f2 gives\n",
    "        the high-frequency cutoff, f3 gives the size of the filter\n",
    "    \n",
    "    Returns\n",
    "    -------\n",
    "    x, y : ndarrays\n",
    "        The modified lines\n",
    "    \"\"\"\n",
    "    x = np.asarray(x)\n",
    "    y = np.asarray(y)\n",
    "    \n",
    "    # get limits for rescaling\n",
    "    if xlim is None:\n",
    "        xlim = (x.min(), x.max())\n",
    "    if ylim is None:\n",
    "        ylim = (y.min(), y.max())\n",
    "\n",
    "    if xlim[1] == xlim[0]:\n",
    "        xlim = ylim\n",
    "        \n",
    "    if ylim[1] == ylim[0]:\n",
    "        ylim = xlim\n",
    "\n",
    "    # scale the data\n",
    "    x_scaled = (x - xlim[0]) * 1. / (xlim[1] - xlim[0])\n",
    "    y_scaled = (y - ylim[0]) * 1. / (ylim[1] - ylim[0])\n",
    "\n",
    "    # compute the total distance along the path\n",
    "    dx = x_scaled[1:] - x_scaled[:-1]\n",
    "    dy = y_scaled[1:] - y_scaled[:-1]\n",
    "    dist_tot = np.sum(np.sqrt(dx * dx + dy * dy))\n",
    "\n",
    "    # number of interpolated points is proportional to the distance\n",
    "    Nu = int(200 * dist_tot)\n",
    "    u = np.arange(-1, Nu + 1) * 1. / (Nu - 1)\n",
    "\n",
    "    # interpolate curve at sampled points\n",
    "    k = min(3, len(x) - 1)\n",
    "    res = interpolate.splprep([x_scaled, y_scaled], s=0, k=k)\n",
    "    x_int, y_int = interpolate.splev(u, res[0]) \n",
    "\n",
    "    # we'll perturb perpendicular to the drawn line\n",
    "    dx = x_int[2:] - x_int[:-2]\n",
    "    dy = y_int[2:] - y_int[:-2]\n",
    "    dist = np.sqrt(dx * dx + dy * dy)\n",
    "\n",
    "    # create a filtered perturbation\n",
    "    coeffs = mag * np.random.normal(0, 0.01, len(x_int) - 2)\n",
    "    b = signal.firwin(f1, f2 * dist_tot, window=('kaiser', f3))\n",
    "    response = signal.lfilter(b, 1, coeffs)\n",
    "\n",
    "    x_int[1:-1] += response * dy / dist\n",
    "    y_int[1:-1] += response * dx / dist\n",
    "\n",
    "    # un-scale data\n",
    "    x_int = x_int[1:-1] * (xlim[1] - xlim[0]) + xlim[0]\n",
    "    y_int = y_int[1:-1] * (ylim[1] - ylim[0]) + ylim[0]\n",
    "    \n",
    "    return x_int, y_int\n",
    "\n",
    "\n",
    "def XKCDify(ax, mag=1.0,\n",
    "            f1=50, f2=0.01, f3=15,\n",
    "            bgcolor='w',\n",
    "            xaxis_loc=None,\n",
    "            yaxis_loc=None,\n",
    "            xaxis_arrow='+',\n",
    "            yaxis_arrow='+',\n",
    "            ax_extend=0.1,\n",
    "            expand_axes=False):\n",
    "    \"\"\"Make axis look hand-drawn\n",
    "\n",
    "    This adjusts all lines, text, legends, and axes in the figure to look\n",
    "    like xkcd plots.  Other plot elements are not modified.\n",
    "    \n",
    "    Parameters\n",
    "    ----------\n",
    "    ax : Axes instance\n",
    "        the axes to be modified.\n",
    "    mag : float\n",
    "        the magnitude of the distortion\n",
    "    f1, f2, f3 : int, float, int\n",
    "        filtering parameters.  f1 gives the size of the window, f2 gives\n",
    "        the high-frequency cutoff, f3 gives the size of the filter\n",
    "    xaxis_loc, yaxis_log : float\n",
    "        The locations to draw the x and y axes.  If not specified, they\n",
    "        will be drawn from the bottom left of the plot\n",
    "    xaxis_arrow, yaxis_arrow : str\n",
    "        where to draw arrows on the x/y axes.  Options are '+', '-', '+-', or ''\n",
    "    ax_extend : float\n",
    "        How far (fractionally) to extend the drawn axes beyond the original\n",
    "        axes limits\n",
    "    expand_axes : bool\n",
    "        if True, then expand axes to fill the figure (useful if there is only\n",
    "        a single axes in the figure)\n",
    "    \"\"\"\n",
    "    # Get axes aspect\n",
    "    ext = ax.get_window_extent().extents\n",
    "    aspect = (ext[3] - ext[1]) / (ext[2] - ext[0])\n",
    "\n",
    "    xlim = ax.get_xlim()\n",
    "    ylim = ax.get_ylim()\n",
    "\n",
    "    xspan = xlim[1] - xlim[0]\n",
    "    yspan = ylim[1] - xlim[0]\n",
    "\n",
    "    xax_lim = (xlim[0] - ax_extend * xspan,\n",
    "               xlim[1] + ax_extend * xspan)\n",
    "    yax_lim = (ylim[0] - ax_extend * yspan,\n",
    "               ylim[1] + ax_extend * yspan)\n",
    "\n",
    "    if xaxis_loc is None:\n",
    "        xaxis_loc = ylim[0]\n",
    "\n",
    "    if yaxis_loc is None:\n",
    "        yaxis_loc = xlim[0]\n",
    "\n",
    "    # Draw axes\n",
    "    xaxis = pl.Line2D([xax_lim[0], xax_lim[1]], [xaxis_loc, xaxis_loc],\n",
    "                      linestyle='-', color='k')\n",
    "    yaxis = pl.Line2D([yaxis_loc, yaxis_loc], [yax_lim[0], yax_lim[1]],\n",
    "                      linestyle='-', color='k')\n",
    "\n",
    "    # Label axes3, 0.5, 'hello', fontsize=14)\n",
    "    ax.text(xax_lim[1], xaxis_loc - 0.02 * yspan, ax.get_xlabel(),\n",
    "            fontsize=14, ha='right', va='top', rotation=12)\n",
    "    ax.text(yaxis_loc - 0.02 * xspan, yax_lim[1], ax.get_ylabel(),\n",
    "            fontsize=14, ha='right', va='top', rotation=78)\n",
    "    ax.set_xlabel('')\n",
    "    ax.set_ylabel('')\n",
    "\n",
    "    # Add title\n",
    "    ax.text(0.5 * (xax_lim[1] + xax_lim[0]), yax_lim[1],\n",
    "            ax.get_title(),\n",
    "            ha='center', va='bottom', fontsize=16)\n",
    "    ax.set_title('')\n",
    "\n",
    "    Nlines = len(ax.lines)\n",
    "    lines = [xaxis, yaxis] + [ax.lines.pop(0) for i in range(Nlines)]\n",
    "\n",
    "    for line in lines:\n",
    "        x, y = line.get_data()\n",
    "\n",
    "        x_int, y_int = xkcd_line(x, y, xlim, ylim,\n",
    "                                 mag, f1, f2, f3)\n",
    "\n",
    "        # create foreground and background line\n",
    "        lw = line.get_linewidth()\n",
    "        line.set_linewidth(2 * lw)\n",
    "        line.set_data(x_int, y_int)\n",
    "\n",
    "        # don't add background line for axes\n",
    "        if (line is not xaxis) and (line is not yaxis):\n",
    "            line_bg = pl.Line2D(x_int, y_int, color=bgcolor,\n",
    "                                linewidth=8 * lw)\n",
    "\n",
    "            ax.add_line(line_bg)\n",
    "        ax.add_line(line)\n",
    "\n",
    "    # Draw arrow-heads at the end of axes lines\n",
    "    arr1 = 0.03 * np.array([-1, 0, -1])\n",
    "    arr2 = 0.02 * np.array([-1, 0, 1])\n",
    "\n",
    "    arr1[::2] += np.random.normal(0, 0.005, 2)\n",
    "    arr2[::2] += np.random.normal(0, 0.005, 2)\n",
    "\n",
    "    x, y = xaxis.get_data()\n",
    "    if '+' in str(xaxis_arrow):\n",
    "        ax.plot(x[-1] + arr1 * xspan * aspect,\n",
    "                y[-1] + arr2 * yspan,\n",
    "                color='k', lw=2)\n",
    "    if '-' in str(xaxis_arrow):\n",
    "        ax.plot(x[0] - arr1 * xspan * aspect,\n",
    "                y[0] - arr2 * yspan,\n",
    "                color='k', lw=2)\n",
    "\n",
    "    x, y = yaxis.get_data()\n",
    "    if '+' in str(yaxis_arrow):\n",
    "        ax.plot(x[-1] + arr2 * xspan * aspect,\n",
    "                y[-1] + arr1 * yspan,\n",
    "                color='k', lw=2)\n",
    "    if '-' in str(yaxis_arrow):\n",
    "        ax.plot(x[0] - arr2 * xspan * aspect,\n",
    "                y[0] - arr1 * yspan,\n",
    "                color='k', lw=2)\n",
    "\n",
    "    # Change all the fonts to humor-sans.\n",
    "    prop = fm.FontProperties(fname='Humor-Sans.ttf', size=16)\n",
    "    for text in ax.texts:\n",
    "        text.set_fontproperties(prop)\n",
    "    \n",
    "    # modify legend\n",
    "    leg = ax.get_legend()\n",
    "    if leg is not None:\n",
    "        leg.set_frame_on(False)\n",
    "        \n",
    "        for child in leg.get_children():\n",
    "            if isinstance(child, pl.Line2D):\n",
    "                x, y = child.get_data()\n",
    "                child.set_data(xkcd_line(x, y, mag=10, f1=100, f2=0.001))\n",
    "                child.set_linewidth(2 * child.get_linewidth())\n",
    "            if isinstance(child, pl.Text):\n",
    "                child.set_fontproperties(prop)\n",
    "    \n",
    "    # Set the axis limits\n",
    "    ax.set_xlim(xax_lim[0] - 0.1 * xspan,\n",
    "                xax_lim[1] + 0.1 * xspan)\n",
    "    ax.set_ylim(yax_lim[0] - 0.1 * yspan,\n",
    "                yax_lim[1] + 0.1 * yspan)\n",
    "\n",
    "    # adjust the axes\n",
    "    ax.set_xticks([])\n",
    "    ax.set_yticks([])      \n",
    "\n",
    "    if expand_axes:\n",
    "        ax.figure.set_facecolor(bgcolor)\n",
    "        ax.set_axis_off()\n",
    "        ax.set_position([0, 0, 1, 1])\n",
    "    \n",
    "    return ax"
   ]
  },
  {
   "cell_type": "code",
   "execution_count": 2,
   "id": "b7f071c3",
   "metadata": {},
   "outputs": [
    {
     "name": "stdout",
     "output_type": "stream",
     "text": [
      "Populating the interactive namespace from numpy and matplotlib\n"
     ]
    }
   ],
   "source": [
    "%pylab inline"
   ]
  },
  {
   "cell_type": "code",
   "execution_count": 72,
   "id": "67d54f14",
   "metadata": {},
   "outputs": [],
   "source": [
    "# np.random.seed(0)\n",
    "\n",
    "# ax = pylab.axes()\n",
    "\n",
    "# x = np.linspace(0, 10, 100)\n",
    "# ax.plot(x, np.sin(x) * np.exp(-0.1 * (x - 5) ** 2), 'b', lw=1, label='damped sine')\n",
    "# ax.plot(x, -np.cos(x) * np.exp(-0.1 * (x - 5) ** 2), 'r', lw=1, label='damped cosine')\n",
    "\n",
    "# ax.set_title('check it out!')\n",
    "# ax.set_xlabel('x label')\n",
    "# ax.set_ylabel('y label')\n",
    "\n",
    "# ax.legend(loc='lower right')\n",
    "\n",
    "# ax.set_xlim(0, 10)\n",
    "# ax.set_ylim(-1.0, 1.0)\n",
    "\n",
    "# #XKCDify the axes -- this operates in-place\n",
    "# XKCDify(ax, xaxis_loc=0.0, yaxis_loc=1.0,\n",
    "#         xaxis_arrow='+-', yaxis_arrow='+-',\n",
    "#         expand_axes=True)"
   ]
  },
  {
   "cell_type": "code",
   "execution_count": 89,
   "id": "7194a73b",
   "metadata": {},
   "outputs": [
    {
     "data": {
      "text/plain": [
       "<AxesSubplot:>"
      ]
     },
     "execution_count": 89,
     "metadata": {},
     "output_type": "execute_result"
    },
    {
     "data": {
      "image/png": "[encoded data removed]",
      "text/plain": [
       "<Figure size 640x480 with 1 Axes>"
      ]
     },
     "metadata": {},
     "output_type": "display_data"
    }
   ],
   "source": [
    "ax = pylab.axes()\n",
    "\n",
    "x = np.linspace(0, 10, 100)\n",
    "def sigmoid(t, x0, alpha):\n",
    "    return 1. / (1. + np.exp(- (t - x0) / alpha))\n",
    "y = [sigmoid(xx, 3, 0.7) for xx in x][::-1]\n",
    "z = [sigmoid(xx, 3, 0.5) for xx in x][::-1]\n",
    "start = 10\n",
    "ax.plot(x[start:], y[start:], 'r', lw=1, label='reliability of exeucting grasps')\n",
    "ax.plot(x + 1, np.array(z) + 0.03, 'b', lw=1, label='easiness of generating grasps')\n",
    "# ax.plot(x, -np.cos(x) * np.exp(-0.1 * (x - 5) ** 2), 'b', lw=1, label='difficulty')\n",
    "\n",
    "ax.set_title('Deployability')\n",
    "ax.set_xlabel('Stock Keeping Units')\n",
    "ax.set_ylabel('')\n",
    "\n",
    "ax.legend(loc='lower right')\n",
    "\n",
    "ax.set_xlim(0, 10)\n",
    "ax.set_ylim(-0.2, 1.2)\n",
    "XKCDify(ax, xaxis_loc=0.0, yaxis_loc=1.0,\n",
    "        xaxis_arrow='+-', yaxis_arrow='+-', ax_extend=0.1,\n",
    "        expand_axes=True)"
   ]
  },
  {
   "cell_type": "code",
   "execution_count": 29,
   "id": "22fb4c3c",
   "metadata": {},
   "outputs": [
    {
     "data": {
      "text/plain": [
       "(-0.2, 1.2)"
      ]
     },
     "execution_count": 29,
     "metadata": {},
     "output_type": "execute_result"
    },
    {
     "data": {
      "image/png": "[encoded data removed]",
      "text/plain": [
       "<Figure size 640x480 with 1 Axes>"
      ]
     },
     "metadata": {},
     "output_type": "display_data"
    }
   ],
   "source": [
    "ax = pylab.axes()\n",
    "\n",
    "def sigmoid(x, x0, alpha):\n",
    "    return 1. / (1. + np.exp(- (x - x0) / alpha))\n",
    "\n",
    "def fun(t):\n",
    "    if t < 5:\n",
    "        return 1.0\n",
    "    else:\n",
    "        return sigmoid(t, 20, 200)\n",
    "\n",
    "x = np.linspace(0, 10, 100)\n",
    "y = [fun(xx) for xx in x]\n",
    "ax.plot(x, y, 'r', lw=1, label='reliability')\n",
    "# ax.plot(x, -np.cos(x) * np.exp(-0.1 * (x - 5) ** 2), 'b', lw=1, label='difficulty')\n",
    "\n",
    "ax.set_title('Feasibility')\n",
    "ax.set_xlabel('Stock Keeping Units')\n",
    "ax.set_ylabel('')\n",
    "\n",
    "ax.legend(loc='lower right')\n",
    "\n",
    "ax.set_xlim(0, 10)\n",
    "ax.set_ylim(-0.2, 1.2)\n",
    "\n",
    "# XKCDify(ax, xaxis_loc=0.0, yaxis_loc=1.0,\n",
    "#         xaxis_arrow='+-', yaxis_arrow='+-',\n",
    "#         expand_axes=True)"
   ]
  },
  {
   "cell_type": "code",
   "execution_count": null,
   "id": "4598e905",
   "metadata": {},
   "outputs": [],
   "source": []
  }
 ],
 "metadata": {
  "kernelspec": {
   "display_name": "Isaac Sim Python 3",
   "language": "python",
   "name": "isaac_sim_python3"
  },
  "language_info": {
   "codemirror_mode": {
    "name": "ipython",
    "version": 3
   },
   "file_extension": ".py",
   "mimetype": "text/x-python",
   "name": "python",
   "nbconvert_exporter": "python",
   "pygments_lexer": "ipython3",
   "version": "3.7.13"
  }
 },
 "nbformat": 4,
 "nbformat_minor": 5
}
