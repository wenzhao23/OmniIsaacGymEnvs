{
 "cells": [
  {
   "cell_type": "code",
   "execution_count": 1,
   "id": "e90a1d9a",
   "metadata": {},
   "outputs": [
    {
     "name": "stdout",
     "output_type": "stream",
     "text": [
      "optimum at  0.3333333346933468 0.29629628940318486\n",
      "minimum value =  0.5443310476200902\n",
      "result code =  4\n"
     ]
    }
   ],
   "source": [
    "import nlopt\n",
    "import numpy as np\n",
    "import kinpy as kp\n",
    "import os\n",
    "def myfunc(x, grad):\n",
    "  if grad.size > 0:\n",
    "    grad[0] = 0.0\n",
    "    grad[1] = 0.5 / np.sqrt(x[1])\n",
    "  return np.sqrt(x[1])\n",
    "def myconstraint(x, grad, a, b):\n",
    "  if grad.size > 0:\n",
    "    grad[0] = 3 * a * (a*x[0] + b)**2\n",
    "    grad[1] = -1.0\n",
    "  return (a*x[0] + b)**3 - x[1]\n",
    "opt = nlopt.opt(nlopt.LD_MMA, 2)\n",
    "opt.set_lower_bounds([-float('inf'), 0])\n",
    "opt.set_min_objective(myfunc)\n",
    "opt.add_inequality_constraint(lambda x,grad: myconstraint(x,grad,2,0), 1e-8)\n",
    "opt.add_inequality_constraint(lambda x,grad: myconstraint(x,grad,-1,1), 1e-8)\n",
    "opt.set_xtol_rel(1e-4)\n",
    "x = opt.optimize([1.234, 5.678])\n",
    "minf = opt.last_optimum_value()\n",
    "print(\"optimum at \", x[0], x[1])\n",
    "print(\"minimum value = \", minf)\n",
    "print(\"result code = \", opt.last_optimize_result())"
   ]
  },
  {
   "cell_type": "code",
   "execution_count": 44,
   "id": "7116e4dd",
   "metadata": {},
   "outputs": [
    {
     "name": "stderr",
     "output_type": "stream",
     "text": [
      "Unknown attribute \"name\" in /robot[@name='ability_hand']/link[@name='base']/visual[1]\n",
      "Unknown attribute \"name\" in /robot[@name='ability_hand']/link[@name='thumb_base']/visual[1]\n",
      "Unknown attribute \"name\" in /robot[@name='ability_hand']/link[@name='index_L1']/visual[1]\n",
      "Unknown attribute \"name\" in /robot[@name='ability_hand']/link[@name='index_L2']/visual[1]\n",
      "Unknown attribute \"name\" in /robot[@name='ability_hand']/link[@name='middle_L1']/visual[1]\n",
      "Unknown attribute \"name\" in /robot[@name='ability_hand']/link[@name='middle_L2']/visual[1]\n",
      "Unknown attribute \"name\" in /robot[@name='ability_hand']/link[@name='ring_L1']/visual[1]\n",
      "Unknown attribute \"name\" in /robot[@name='ability_hand']/link[@name='ring_L2']/visual[1]\n",
      "Unknown attribute \"name\" in /robot[@name='ability_hand']/link[@name='pinky_L1']/visual[1]\n",
      "Unknown attribute \"name\" in /robot[@name='ability_hand']/link[@name='pinky_L2']/visual[1]\n",
      "Unknown attribute \"name\" in /robot[@name='ability_hand']/link[@name='thumb_L1']/visual[1]\n",
      "Unknown attribute \"name\" in /robot[@name='ability_hand']/link[@name='thumb_L2']/visual[1]\n"
     ]
    }
   ],
   "source": [
    "#urdf_path = '~/Downloads/data/hand/aSampleForearmURDF/aSampleForearm.urdf'\n",
    "urdf_path = '~/Downloads/data/hand/psyonic/ability_hand_right.urdf'\n",
    "chain = kp.build_chain_from_urdf(open(os.path.expanduser(urdf_path), 'rb').read())\n",
    "tip_joints = {\n",
    "  'thumb_anchor_frame': ['thumb_q1', 'thumb_q2'],\n",
    "  'index_anchor_frame': ['index_q1', 'index_q2'],\n",
    "  'middle_anchor_frame': ['middle_q1', 'middle_q2'],\n",
    "  'ring_anchor_frame': ['ring_q1', 'ring_q2'],\n",
    "  'pinky_anchor_frame': ['pinky_q1', 'pinky_q2']\n",
    "}\n",
    "joint_indices = {name: index for index, name in enumerate(chain.get_joint_parameter_names())}\n",
    "finger_tips = [\n",
    "  'thumb_anchor_frame',\n",
    "  'index_anchor_frame',\n",
    "  'middle_anchor_frame',\n",
    "  'ring_anchor_frame'\n",
    "]\n",
    "finger_chains = [kp.chain.SerialChain(\n",
    "  chain, tip_frame, 'thumb_base_frame') for tip_frame in finger_tips]\n",
    "mimic_config = {\n",
    "  'index_q2': ('index_q1', 1.05851325, 0.72349796),\n",
    "  'middle_q2': ('middle_q1', 1.05851325, 0.72349796),\n",
    "  'ring_q2': ('ring_q1', 1.05851325, 0.72349796),\n",
    "  'pinky_q2': ('pinky_q1', 1.05851325, 0.72349796),\n",
    "}\n",
    "mimic_joints = {}\n",
    "for name, source in mimic_config.items():\n",
    "  mimic_joints[joint_indices[name]] = (joint_indices[source[0]], source[1], source[2])\n",
    "d_vector_d_tip_positions = np.array([\n",
    "  [1, 0, 0, 0],\n",
    "  [0, 1, 0, 0],\n",
    "  [0, 0, 1, 0],\n",
    "  [0, 0, 0, 1],\n",
    "  [-1, 1, 0, 0],\n",
    "  [-1, 0, 1, 0],\n",
    "  [-1, 0, 0, 1],\n",
    "  [0, -1, 1, 0],\n",
    "  [0, -1, 0, 1],\n",
    "  [0, 0, -1, 1]]\n",
    ")"
   ]
  },
  {
   "cell_type": "code",
   "execution_count": 76,
   "id": "1db9dc31",
   "metadata": {},
   "outputs": [],
   "source": [
    "human_points = 0.09473151311686484 * np.array([\n",
    " [ 3.2725373e-01,  7.7795637e-01,  5.2816981e-01],   \n",
    " [-9.6739009e-02,  7.1368307e-01,  2.6825169e-01],  \n",
    " [-3.8875103e-01,  5.4602653e-01, -1.4086844e-02],  \n",
    " [-6.6549540e-01,  3.7160176e-01, -2.7358043e-01],   \n",
    " [-9.3673939e-01,  1.8285528e-01, -3.0206269e-01],   \n",
    " [-2.5174081e-01,  5.9735239e-02,  1.1930531e-03],  \n",
    " [-4.6450284e-01, -2.7687421e-01, -1.0340554e-01],   \n",
    " [-6.8177640e-01, -4.9950594e-01, -2.0901288e-01],    \n",
    " [-8.2444388e-01, -7.3041087e-01, -4.0643957e-01],   \n",
    " [-2.1448732e-10, -1.1600489e-09,  1.6249215e-09],                             \n",
    " [-1.1306240e-01, -4.0202361e-01, -1.3616551e-01],   \n",
    " [-1.8879688e-01, -7.0582879e-01, -2.5055227e-01],                            \n",
    " [-2.2684556e-01, -1.0986997e+00, -2.3798983e-01],                       \n",
    " [ 2.2809474e-01,  2.9315004e-02, -5.5515267e-02],                                        \n",
    " [ 2.2521757e-01, -2.7360198e-01, -1.9113588e-01],                     \n",
    " [ 2.2941884e-01, -4.8866022e-01, -3.7809783e-01],   \n",
    " [ 1.2185465e-01, -9.6826726e-01, -3.6378175e-01],                                        \n",
    " [ 4.7356415e-01,  1.3390288e-01, -1.3963695e-01],                       \n",
    " [ 5.4217476e-01, -2.1130911e-01, -2.6199883e-01],   \n",
    " [ 5.8714467e-01, -3.7332100e-01, -3.9369622e-01],                                        \n",
    " [ 5.9575760e-01, -6.8251586e-01, -4.8331016e-01]])\n",
    "\n",
    "def vector_length(vector):\n",
    "  return np.linalg.norm(vector)\n",
    "\n",
    "def normalize(vector):\n",
    "  return vector / np.clip(vector_length(vector), 1e-10, 1e10)\n",
    "\n",
    "def weight_and_scale(vector, vector_index):\n",
    "  length_threshold = 0.1\n",
    "  length = vector_length(vector)\n",
    "  antipodal_set = set([4, 5, 6])\n",
    "  primary_set = set([7, 8, 9])\n",
    "  if length > length_threshold:\n",
    "    return 1, length #1.6 * length\n",
    "  elif vector_index in antipodal_set:\n",
    "    return 200, length #1e-4\n",
    "  elif vector_index in primary_set:\n",
    "    return 400, length #3e-2\n",
    "  else:\n",
    "    return 1, 1.6 * length\n",
    "\n",
    "def human_points_to_vectors(points):\n",
    "  vectors = [\n",
    "    points[4, :] - points[0, :],\n",
    "    points[8, :] - points[0, :],\n",
    "    points[12, :] - points[0, :],\n",
    "    points[16, :] - points[0, :],\n",
    "    points[8, :] - points[4, :],\n",
    "    points[12, :] - points[4, :],\n",
    "    points[16, :] - points[4, :],\n",
    "    points[12, :] - points[8, :],\n",
    "    points[16, :] - points[8, :],\n",
    "    points[16, :] - points[12, :]\n",
    "  ]\n",
    "  return vectors\n",
    "\n",
    "def robot_config_to_vectors(joint_positions):\n",
    "  tip_positions = []\n",
    "  for index, finger_tip_frame in enumerate(finger_tips):\n",
    "    finger_joints = [joint_positions[joint_indices[joint_name]]\n",
    "                     for joint_name in tip_joints[finger_tip_frame]]\n",
    "    tip_positions.append(finger_chains[index].forward_kinematics(finger_joints).pos)\n",
    "\n",
    "  vectors = [\n",
    "    tip_positions[0],\n",
    "    tip_positions[1],\n",
    "    tip_positions[2],\n",
    "    tip_positions[3],\n",
    "    tip_positions[1] - tip_positions[0],\n",
    "    tip_positions[2] - tip_positions[0],\n",
    "    tip_positions[3] - tip_positions[0],\n",
    "    tip_positions[2] - tip_positions[1],\n",
    "    tip_positions[3] - tip_positions[1],\n",
    "    tip_positions[3] - tip_positions[2]\n",
    "  ]\n",
    "  return vectors\n",
    "\n",
    "def update_jacobian_for_mimic_joints(jacobian, mimic_joints):\n",
    "  for joint_index, source in mimic_joints.items():\n",
    "    source_index, multiplier, _ = source\n",
    "    jacobian[:, source_index] = jacobian[:, joint_index] * multiplier + jacobian[:, source_index]\n",
    "    jacobian[:, joint_index] = 0\n",
    "  return jacobian\n",
    "\n",
    "def compute_jacobians(joint_positions):\n",
    "  jacobians = []\n",
    "  for index, finger_tip_frame in enumerate(finger_tips):\n",
    "    finger_joint_indices = [joint_indices[joint_name]\n",
    "                            for joint_name in tip_joints[finger_tip_frame]]\n",
    "    finger_joints = joint_positions[finger_joint_indices]\n",
    "    jac = np.zeros((6, len(joint_positions)))\n",
    "    jac[:, finger_joint_indices] = finger_chains[index].jacobian(finger_joints)\n",
    "    update_jacobian_for_mimic_joints(jac, mimic_joints)\n",
    "    jacobians.append(jac)\n",
    "  return jacobians\n",
    "\n",
    "def metric(joint_positions, gradient):\n",
    "  human_vectors = human_points_to_vectors(human_points)\n",
    "  cost = 0\n",
    "  num_dof = len(joint_positions)\n",
    "  vectors = robot_config_to_vectors(joint_positions)\n",
    "  new_grad = np.zeros((num_dof, ))\n",
    "  jacobians = compute_jacobians(joint_positions)\n",
    "  for vector_index, vector in enumerate(vectors):\n",
    "    weight, scale = weight_and_scale(vector, vector_index)\n",
    "    diff = vector - scale * normalize(human_vectors[vector_index])\n",
    "    cost += weight * np.linalg.norm(diff) ** 2\n",
    "    d_vector_d_joint_position = np.zeros((3, num_dof))\n",
    "    for tip_index in range(d_vector_d_tip_positions.shape[1]):\n",
    "      d_vector_d_joint_position += d_vector_d_tip_positions[\n",
    "        vector_index, tip_index] * jacobians[tip_index][:3, :]\n",
    "    new_grad += weight * np.dot(diff, d_vector_d_joint_position)\n",
    "  cost = 0.5 * cost + 2.5e-3 * np.linalg.norm(joint_positions) ** 2\n",
    "  new_grad += 5e-3 * joint_positions\n",
    "  gradient[:] = new_grad[:]\n",
    "\n",
    "  return cost"
   ]
  },
  {
   "cell_type": "code",
   "execution_count": 77,
   "id": "97af89d6",
   "metadata": {},
   "outputs": [
    {
     "data": {
      "text/plain": [
       "array([0.15395284, 0.20039855, 0.19906841, 0.18676921, 0.08772567,\n",
       "       0.1389178 , 0.14826356, 0.06838642, 0.09252104, 0.03722696])"
      ]
     },
     "execution_count": 77,
     "metadata": {},
     "output_type": "execute_result"
    }
   ],
   "source": [
    "human_vectors = human_points_to_vectors(human_points)\n",
    "np.linalg.norm(human_vectors, axis=1)"
   ]
  },
  {
   "cell_type": "code",
   "execution_count": 78,
   "id": "1add7d55",
   "metadata": {},
   "outputs": [],
   "source": [
    "jps = np.array([0] * 16)\n",
    "gradient = np.zeros(jps.shape)\n",
    "cost = metric(jps, gradient)"
   ]
  },
  {
   "cell_type": "code",
   "execution_count": 82,
   "id": "1f72b50f",
   "metadata": {},
   "outputs": [
    {
     "name": "stdout",
     "output_type": "stream",
     "text": [
      "[ 0.          0.          0.          0.          0.          0.\n",
      "  0.15026033  0.         -0.1026651   0.          0.01502165  0.\n",
      "  0.          0.         -0.00153839  0.00376619]\n"
     ]
    }
   ],
   "source": [
    "opt = nlopt.opt(nlopt.LD_MMA, 16)\n",
    "opt.set_lower_bounds([-3.14] * 16)\n",
    "opt.set_upper_bounds([3.14] * 16)\n",
    "opt.set_min_objective(metric)\n",
    "opt.set_xtol_rel(1e-3)\n",
    "theta = opt.optimize(np.array([0] * 16))\n",
    "minf = opt.last_optimum_value()\n",
    "print(theta)"
   ]
  },
  {
   "cell_type": "code",
   "execution_count": 72,
   "id": "2d1f8b97",
   "metadata": {},
   "outputs": [
    {
     "data": {
      "text/plain": [
       "(-0.1, 0.1)"
      ]
     },
     "execution_count": 72,
     "metadata": {},
     "output_type": "execute_result"
    }
   ],
   "source": [
    "from matplotlib import pyplot as plt\n",
    "%matplotlib qt\n",
    "fig = plt.figure()\n",
    "ax = fig.add_subplot(projection='3d')\n",
    "colors = (np.array([list(range(20, -1, -1)), [0] * 21, list(range(0, 21))]).transpose() / 20)#.astype(np.int32)\n",
    "# ax.scatter(locs[:, 0], locs[:, 1], locs[:, 2], marker=, c=colors, linewidths=10)\n",
    "for i in range(21):#plot each point + it's index as text above\n",
    "  ax.scatter(human_points[i,0],human_points[i,1],human_points[i,2],color=colors[i]) \n",
    "  ax.text(human_points[i,0],human_points[i,1],human_points[i,2],  '%s' % (str(i)), size=10, zorder=1,color='k') \n",
    "ax.set_xlabel('X Label')\n",
    "ax.set_ylabel('Y Label')\n",
    "ax.set_zlabel('Z Label')\n",
    "ax.set_xlim([-0.1, 0.1])\n",
    "ax.set_ylim([-0.1, 0.1])\n",
    "ax.set_zlim([-0.1, 0.1])"
   ]
  }
 ],
 "metadata": {
  "kernelspec": {
   "display_name": "Isaac Sim Python 3",
   "language": "python",
   "name": "isaac_sim_python3"
  },
  "language_info": {
   "codemirror_mode": {
    "name": "ipython",
    "version": 3
   },
   "file_extension": ".py",
   "mimetype": "text/x-python",
   "name": "python",
   "nbconvert_exporter": "python",
   "pygments_lexer": "ipython3",
   "version": "3.7.13"
  }
 },
 "nbformat": 4,
 "nbformat_minor": 5
}
